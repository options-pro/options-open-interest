{
 "cells": [
  {
   "cell_type": "code",
   "execution_count": 109,
   "id": "a9930dea",
   "metadata": {},
   "outputs": [],
   "source": [
    "from nsepy.derivatives import get_expiry_date\n",
    "from datetime import timedelta\n",
    "from nsepy import get_index_pe_history\n",
    "from nsepy import get_history\n",
    "from nsepy import history\n",
    "from datetime import date\n",
    "import pandas as pd\n",
    "import json"
   ]
  },
  {
   "cell_type": "code",
   "execution_count": 110,
   "id": "17753e2a",
   "metadata": {},
   "outputs": [],
   "source": [
    "def getExpiryDatesList():\n",
    "    \n",
    "    expiryDates = []\n",
    "    currentYear = todays_date = date.today().year\n",
    "    currentMonth = todays_date = date.today().month\n",
    "    for monthCheck in range(currentMonth,13):\n",
    "        expiry = get_expiry_date(year=currentYear, month=monthCheck)\n",
    "        dates = list(expiry)\n",
    "        expiryDates = expiryDates + dates\n",
    "    expiryDates.sort()\n",
    "    datejson = json.dumps(expiryDates, indent=4, sort_keys=True, default=str)\n",
    "    \n",
    "    return (datejson)"
   ]
  },
  {
   "cell_type": "code",
   "execution_count": 123,
   "id": "6f3b6fb6",
   "metadata": {},
   "outputs": [],
   "source": [
    "def getOptionOI(symbol,expiryDate,instrument):\n",
    "\n",
    "    df = pd.DataFrame()\n",
    "    currentYear = int(date.today().year)\n",
    "    currentMonth = int(date.today().month)\n",
    "    currentDate = int(date.today().day)\n",
    "    previous_close = round(get_history(symbol=symbol, start=date(currentYear,currentMonth,currentDate) + timedelta(days=-2), end=date(currentYear,currentMonth,currentDate))[\"Close\"].iloc[0])\n",
    "    \n",
    "    for price in range(5*round(previous_close*.85/5),5*round(previous_close*1.15/5),5):\n",
    "        stock_opt = get_history(symbol=symbol,\n",
    "                            start=date(currentYear,currentMonth,currentDate) + timedelta(days=-60),\n",
    "                            end=date(currentYear,currentMonth,currentDate),\n",
    "                            option_type=instrument,\n",
    "                            strike_price=price,\n",
    "                            expiry_date=date(int(expiryDate[0:4]),int(expiryDate[5:7]),int(expiryDate[8:10])))\n",
    "        df = df.append(stock_opt)\n",
    "    df = df.drop(['Option Type','Expiry','Symbol','Strike Price','Open','High','Low','Close','Last','Settle Price','Number of Contracts','Turnover','Premium Turnover','Underlying'], axis=1)\n",
    "    df = df.groupby('Date').sum()\n",
    "    df = df[df['Open Interest'] > 0]\n",
    "    return json.loads(df.to_json(orient='table'))[\"data\"]"
   ]
  },
  {
   "cell_type": "code",
   "execution_count": 142,
   "id": "7e1aa6e1",
   "metadata": {},
   "outputs": [
    {
     "name": "stdout",
     "output_type": "stream",
     "text": [
      "[{'Date': '2022-09-05T00:00:00.000Z', 'Open Interest': 538500, 'Change in OI': 42000}, {'Date': '2022-09-06T00:00:00.000Z', 'Open Interest': 573000, 'Change in OI': 34500}, {'Date': '2022-09-07T00:00:00.000Z', 'Open Interest': 673500, 'Change in OI': 100500}, {'Date': '2022-09-08T00:00:00.000Z', 'Open Interest': 783000, 'Change in OI': 109500}, {'Date': '2022-09-09T00:00:00.000Z', 'Open Interest': 1093500, 'Change in OI': 310500}, {'Date': '2022-09-12T00:00:00.000Z', 'Open Interest': 1326000, 'Change in OI': 232500}, {'Date': '2022-09-13T00:00:00.000Z', 'Open Interest': 1513500, 'Change in OI': 187500}, {'Date': '2022-09-14T00:00:00.000Z', 'Open Interest': 1998000, 'Change in OI': 484500}, {'Date': '2022-09-22T00:00:00.000Z', 'Open Interest': 1500, 'Change in OI': 1500}, {'Date': '2022-09-23T00:00:00.000Z', 'Open Interest': 1500, 'Change in OI': 0}, {'Date': '2022-09-26T00:00:00.000Z', 'Open Interest': 43500, 'Change in OI': 42000}, {'Date': '2022-09-27T00:00:00.000Z', 'Open Interest': 60000, 'Change in OI': 16500}, {'Date': '2022-09-28T00:00:00.000Z', 'Open Interest': 88500, 'Change in OI': 28500}]\n"
     ]
    }
   ],
   "source": [
    "print(json.loads(a)[\"data\"])"
   ]
  },
  {
   "cell_type": "code",
   "execution_count": null,
   "id": "b6d68f52",
   "metadata": {},
   "outputs": [],
   "source": []
  }
 ],
 "metadata": {
  "kernelspec": {
   "display_name": "Python 3 (ipykernel)",
   "language": "python",
   "name": "python3"
  },
  "language_info": {
   "codemirror_mode": {
    "name": "ipython",
    "version": 3
   },
   "file_extension": ".py",
   "mimetype": "text/x-python",
   "name": "python",
   "nbconvert_exporter": "python",
   "pygments_lexer": "ipython3",
   "version": "3.7.13"
  }
 },
 "nbformat": 4,
 "nbformat_minor": 5
}
