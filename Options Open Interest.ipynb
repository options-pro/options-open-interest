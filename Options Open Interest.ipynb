{
 "cells": [
  {
   "cell_type": "code",
   "execution_count": 109,
   "id": "a9930dea",
   "metadata": {},
   "outputs": [],
   "source": [
    "from nsepy.derivatives import get_expiry_date\n",
    "from datetime import timedelta\n",
    "from nsepy import get_index_pe_history\n",
    "from nsepy import get_history\n",
    "from nsepy import history\n",
    "from datetime import date\n",
    "import pandas as pd\n",
    "import json"
   ]
  },
  {
   "cell_type": "code",
   "execution_count": 110,
   "id": "17753e2a",
   "metadata": {},
   "outputs": [],
   "source": [
    "def getExpiryDatesList():\n",
    "    \n",
    "    expiryDates = []\n",
    "    currentYear = todays_date = date.today().year\n",
    "    currentMonth = todays_date = date.today().month\n",
    "    for monthCheck in range(currentMonth,13):\n",
    "        expiry = get_expiry_date(year=currentYear, month=monthCheck)\n",
    "        dates = list(expiry)\n",
    "        expiryDates = expiryDates + dates\n",
    "    expiryDates.sort()\n",
    "    datejson = json.dumps(expiryDates, indent=4, sort_keys=True, default=str)\n",
    "    \n",
    "    return (datejson)"
   ]
  },
  {
   "cell_type": "code",
   "execution_count": 146,
   "id": "5947764d",
   "metadata": {},
   "outputs": [],
   "source": [
    "def getOptionOI(symbol,expiryDate,instrument):\n",
    "\n",
    "    df = pd.DataFrame()\n",
    "    currentYear = int(date.today().year)\n",
    "    currentMonth = int(date.today().month)\n",
    "    currentDate = int(date.today().day)\n",
    "    previous_close = round(get_history(symbol=symbol, start=date(currentYear,currentMonth,currentDate) + timedelta(days=-2), end=date(currentYear,currentMonth,currentDate))[\"Close\"].iloc[0])\n",
    "    \n",
    "    for price in range(5*round(previous_close*.85/5),5*round(previous_close*1.15/5),5):\n",
    "        stock_opt = get_history(symbol=symbol,\n",
    "                            start=date(currentYear,currentMonth,currentDate) + timedelta(days=-60),\n",
    "                            end=date(currentYear,currentMonth,currentDate),\n",
    "                            option_type=instrument,\n",
    "                            strike_price=price,\n",
    "                            expiry_date=date(int(expiryDate[0:4]),int(expiryDate[5:7]),int(expiryDate[8:10])))\n",
    "        df = df.append(stock_opt)\n",
    "    df = df.drop(['Option Type','Expiry','Symbol','Strike Price','Open','High','Low','Close','Last','Settle Price','Number of Contracts','Turnover','Premium Turnover','Underlying'], axis=1)\n",
    "    df = df.groupby('Date').sum()\n",
    "    df = df[df['Open Interest'] > 0]\n",
    "    return (json.loads(df.to_json(orient='table')))[\"data\"]"
   ]
  },
  {
   "cell_type": "code",
   "execution_count": 147,
   "id": "7e1aa6e1",
   "metadata": {},
   "outputs": [
    {
     "name": "stdout",
     "output_type": "stream",
     "text": [
      "[{'Date': '2022-09-05T00:00:00.000Z', 'Open Interest': 1500, 'Change in OI': 1500}, {'Date': '2022-09-06T00:00:00.000Z', 'Open Interest': 1500, 'Change in OI': 0}, {'Date': '2022-09-07T00:00:00.000Z', 'Open Interest': 1500, 'Change in OI': 0}, {'Date': '2022-09-08T00:00:00.000Z', 'Open Interest': 1500, 'Change in OI': 0}, {'Date': '2022-09-09T00:00:00.000Z', 'Open Interest': 1500, 'Change in OI': 0}, {'Date': '2022-09-12T00:00:00.000Z', 'Open Interest': 1500, 'Change in OI': 0}, {'Date': '2022-09-13T00:00:00.000Z', 'Open Interest': 1500, 'Change in OI': 0}, {'Date': '2022-09-14T00:00:00.000Z', 'Open Interest': 15000, 'Change in OI': 13500}, {'Date': '2022-09-15T00:00:00.000Z', 'Open Interest': 19500, 'Change in OI': 4500}, {'Date': '2022-09-16T00:00:00.000Z', 'Open Interest': 21000, 'Change in OI': 1500}, {'Date': '2022-09-19T00:00:00.000Z', 'Open Interest': 24000, 'Change in OI': 3000}, {'Date': '2022-09-20T00:00:00.000Z', 'Open Interest': 28500, 'Change in OI': 4500}, {'Date': '2022-09-21T00:00:00.000Z', 'Open Interest': 39000, 'Change in OI': 10500}, {'Date': '2022-09-22T00:00:00.000Z', 'Open Interest': 40500, 'Change in OI': 1500}, {'Date': '2022-09-23T00:00:00.000Z', 'Open Interest': 49500, 'Change in OI': 9000}, {'Date': '2022-09-26T00:00:00.000Z', 'Open Interest': 60000, 'Change in OI': 10500}, {'Date': '2022-09-27T00:00:00.000Z', 'Open Interest': 81000, 'Change in OI': 21000}, {'Date': '2022-09-28T00:00:00.000Z', 'Open Interest': 97500, 'Change in OI': 16500}, {'Date': '2022-09-29T00:00:00.000Z', 'Open Interest': 133500, 'Change in OI': 36000}, {'Date': '2022-09-30T00:00:00.000Z', 'Open Interest': 240000, 'Change in OI': 106500}, {'Date': '2022-10-03T00:00:00.000Z', 'Open Interest': 312000, 'Change in OI': 72000}, {'Date': '2022-10-04T00:00:00.000Z', 'Open Interest': 349500, 'Change in OI': 37500}, {'Date': '2022-10-06T00:00:00.000Z', 'Open Interest': 402000, 'Change in OI': 52500}, {'Date': '2022-10-07T00:00:00.000Z', 'Open Interest': 432000, 'Change in OI': 30000}, {'Date': '2022-10-10T00:00:00.000Z', 'Open Interest': 495000, 'Change in OI': 63000}, {'Date': '2022-10-11T00:00:00.000Z', 'Open Interest': 561000, 'Change in OI': 66000}, {'Date': '2022-10-12T00:00:00.000Z', 'Open Interest': 598500, 'Change in OI': 37500}, {'Date': '2022-10-13T00:00:00.000Z', 'Open Interest': 723000, 'Change in OI': 124500}, {'Date': '2022-10-14T00:00:00.000Z', 'Open Interest': 961500, 'Change in OI': 238500}, {'Date': '2022-10-17T00:00:00.000Z', 'Open Interest': 1653000, 'Change in OI': 691500}, {'Date': '2022-10-18T00:00:00.000Z', 'Open Interest': 2565000, 'Change in OI': 912000}, {'Date': '2022-10-19T00:00:00.000Z', 'Open Interest': 2991000, 'Change in OI': 426000}, {'Date': '2022-10-20T00:00:00.000Z', 'Open Interest': 3988500, 'Change in OI': 997500}, {'Date': '2022-10-21T00:00:00.000Z', 'Open Interest': 5823000, 'Change in OI': 1834500}, {'Date': '2022-10-25T00:00:00.000Z', 'Open Interest': 10669500, 'Change in OI': 3840000}, {'Date': '2022-10-27T00:00:00.000Z', 'Open Interest': 14502000, 'Change in OI': 3832500}, {'Date': '2022-10-28T00:00:00.000Z', 'Open Interest': 17877000, 'Change in OI': 3375000}, {'Date': '2022-10-31T00:00:00.000Z', 'Open Interest': 19299000, 'Change in OI': 1422000}, {'Date': '2022-11-01T00:00:00.000Z', 'Open Interest': 20280000, 'Change in OI': 981000}]\n"
     ]
    }
   ],
   "source": [
    "print(getOptionOI(\"SBIN\",\"2022-11-24\",\"PE\"))"
   ]
  },
  {
   "cell_type": "code",
   "execution_count": null,
   "id": "44483d55",
   "metadata": {},
   "outputs": [],
   "source": []
  }
 ],
 "metadata": {
  "kernelspec": {
   "display_name": "Python 3 (ipykernel)",
   "language": "python",
   "name": "python3"
  },
  "language_info": {
   "codemirror_mode": {
    "name": "ipython",
    "version": 3
   },
   "file_extension": ".py",
   "mimetype": "text/x-python",
   "name": "python",
   "nbconvert_exporter": "python",
   "pygments_lexer": "ipython3",
   "version": "3.7.13"
  }
 },
 "nbformat": 4,
 "nbformat_minor": 5
}
