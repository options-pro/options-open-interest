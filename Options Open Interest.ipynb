{
 "cells": [
  {
   "cell_type": "code",
   "execution_count": 34,
   "id": "a9930dea",
   "metadata": {},
   "outputs": [],
   "source": [
    "from nsepy.derivatives import get_expiry_date\n",
    "from nsepy import get_index_pe_history\n",
    "from nsepy import history\n",
    "from datetime import date\n",
    "import json"
   ]
  },
  {
   "cell_type": "code",
   "execution_count": 31,
   "id": "17753e2a",
   "metadata": {},
   "outputs": [],
   "source": [
    "def getExpiryDatesList():\n",
    "    \n",
    "    expiryDates = []\n",
    "    currentYear = todays_date = date.today().year\n",
    "    currentMonth = todays_date = date.today().month\n",
    "    for monthCheck in range(currentMonth,13):\n",
    "        expiry = get_expiry_date(year=currentYear, month=monthCheck)\n",
    "        dates = list(expiry)\n",
    "        expiryDates = expiryDates + dates\n",
    "    expiryDates.sort()\n",
    "    datejson = json.dumps(expiryDates, indent=4, sort_keys=True, default=str)\n",
    "    \n",
    "    return (datejson)"
   ]
  },
  {
   "cell_type": "code",
   "execution_count": 32,
   "id": "20c03344",
   "metadata": {},
   "outputs": [
    {
     "name": "stdout",
     "output_type": "stream",
     "text": [
      "[\n",
      "    \"2022-11-01\",\n",
      "    \"2022-11-03\",\n",
      "    \"2022-11-07\",\n",
      "    \"2022-11-10\",\n",
      "    \"2022-11-15\",\n",
      "    \"2022-11-17\",\n",
      "    \"2022-11-22\",\n",
      "    \"2022-11-24\",\n",
      "    \"2022-11-29\",\n",
      "    \"2022-12-29\"\n",
      "]\n"
     ]
    }
   ],
   "source": [
    "print(getExpiryDatesList())"
   ]
  },
  {
   "cell_type": "code",
   "execution_count": null,
   "id": "7e1aa6e1",
   "metadata": {},
   "outputs": [],
   "source": [
    "def getOptionOI(symbol,expiryDate):\n",
    "    "
   ]
  }
 ],
 "metadata": {
  "kernelspec": {
   "display_name": "Python 3 (ipykernel)",
   "language": "python",
   "name": "python3"
  },
  "language_info": {
   "codemirror_mode": {
    "name": "ipython",
    "version": 3
   },
   "file_extension": ".py",
   "mimetype": "text/x-python",
   "name": "python",
   "nbconvert_exporter": "python",
   "pygments_lexer": "ipython3",
   "version": "3.7.13"
  }
 },
 "nbformat": 4,
 "nbformat_minor": 5
}
